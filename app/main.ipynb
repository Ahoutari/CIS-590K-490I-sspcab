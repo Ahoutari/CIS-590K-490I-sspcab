{
 "cells": [
  {
   "cell_type": "code",
   "execution_count": 4,
   "metadata": {},
   "outputs": [
    {
     "name": "stdout",
     "output_type": "stream",
     "text": [
      "2.11.0\n",
      "<function sspcab_layer at 0x000001A3CD82F880>\n"
     ]
    }
   ],
   "source": [
    "import tensorflow as tf\n",
    "from sspcab import sspcab_layer\n",
    "\n",
    "print(tf.__version__)\n",
    "print(sspcab_layer)\n"
   ]
  },
  {
   "cell_type": "code",
   "execution_count": null,
   "metadata": {},
   "outputs": [],
   "source": []
  }
 ],
 "metadata": {
  "kernelspec": {
   "display_name": "venv",
   "language": "python",
   "name": "python3"
  },
  "language_info": {
   "codemirror_mode": {
    "name": "ipython",
    "version": 3
   },
   "file_extension": ".py",
   "mimetype": "text/x-python",
   "name": "python",
   "nbconvert_exporter": "python",
   "pygments_lexer": "ipython3",
   "version": "3.10.4"
  },
  "orig_nbformat": 4,
  "vscode": {
   "interpreter": {
    "hash": "5a140ffdcc87065171cfe0cda06cd07647d30c9335116447316fdaa269bfe5cf"
   }
  }
 },
 "nbformat": 4,
 "nbformat_minor": 2
}
